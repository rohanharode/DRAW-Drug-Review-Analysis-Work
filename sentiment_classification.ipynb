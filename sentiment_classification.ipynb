{
 "cells": [
  {
   "cell_type": "code",
   "execution_count": 1,
   "metadata": {},
   "outputs": [
    {
     "name": "stderr",
     "output_type": "stream",
     "text": [
      "/Users/darklord/opt/anaconda3/lib/python3.7/site-packages/sklearn/externals/joblib/__init__.py:15: DeprecationWarning: sklearn.externals.joblib is deprecated in 0.21 and will be removed in 0.23. Please import this functionality directly from joblib, which can be installed with: pip install joblib. If this warning is raised when loading pickled models, you may need to re-serialize those models with scikit-learn 0.21+.\n",
      "  warnings.warn(msg, category=DeprecationWarning)\n"
     ]
    }
   ],
   "source": [
    "import re\n",
    "import pandas as pd\n",
    "import seaborn as sns\n",
    "import pickle\n",
    "import matplotlib.pyplot as plt\n",
    "import numpy as np\n",
    "import itertools\n",
    "import nltk\n",
    "#nltk.download('punkt')\n",
    "#nltk.download('stopwords')\n",
    "from nltk.tokenize import word_tokenize\n",
    "import string\n",
    "from nltk.corpus import stopwords\n",
    "from nltk.stem.snowball import SnowballStemmer\n",
    "from bs4 import BeautifulSoup\n",
    "from sklearn.linear_model import LogisticRegression, SGDClassifier, LogisticRegressionCV\n",
    "from sklearn.ensemble import RandomForestClassifier,GradientBoostingClassifier\n",
    "from sklearn.svm import SVC,LinearSVC\n",
    "from sklearn.naive_bayes import MultinomialNB, GaussianNB\n",
    "from sklearn.model_selection import cross_val_score\n",
    "from sklearn.feature_extraction.text import TfidfVectorizer, CountVectorizer\n",
    "from sklearn.multioutput import MultiOutputClassifier\n",
    "from sklearn.metrics import roc_curve, confusion_matrix, precision_recall_curve\n",
    "from sklearn.metrics import roc_auc_score , f1_score, average_precision_score, accuracy_score\n",
    "import multiprocessing\n",
    "from sklearn.externals import joblib\n",
    "from sklearn.model_selection import train_test_split"
   ]
  },
  {
   "cell_type": "code",
   "execution_count": 2,
   "metadata": {},
   "outputs": [
    {
     "name": "stdout",
     "output_type": "stream",
     "text": [
      "337337\n"
     ]
    }
   ],
   "source": [
    "df_merge = pd.read_csv('full_merge.csv')\n",
    "df_merge = df_merge.dropna()\n",
    "print(len(df_merge))"
   ]
  },
  {
   "cell_type": "code",
   "execution_count": 3,
   "metadata": {},
   "outputs": [
    {
     "data": {
      "text/plain": [
       "Positive    213982\n",
       "Negative     72095\n",
       "Neutral      51260\n",
       "Name: rating_category, dtype: int64"
      ]
     },
     "execution_count": 3,
     "metadata": {},
     "output_type": "execute_result"
    }
   ],
   "source": [
    "## remove special symbol\n",
    "def rm_sym(df):\n",
    "    df_merge['Reviews'] = df_merge['Reviews'].str.replace(\"&#039;\",'\\'')\n",
    "    df_merge['rating_category'] = ''\n",
    "    df_merge.loc[df_merge['Rating'] >= 7,'rating_category'] = 'Positive'\n",
    "    df_merge.loc[(df_merge['Rating'] > 4) & (df_merge['Rating'] < 7),'rating_category'] = 'Neutral'\n",
    "    df_merge.loc[df_merge['Rating'] <= 4,'rating_category'] = 'Negative'\n",
    "    return df\n",
    "\n",
    "df_merge = rm_sym(df_merge)\n",
    "df_merge['rating_category'].value_counts()"
   ]
  },
  {
   "cell_type": "code",
   "execution_count": 4,
   "metadata": {},
   "outputs": [
    {
     "data": {
      "text/plain": [
       "<matplotlib.axes._subplots.AxesSubplot at 0x10bfae410>"
      ]
     },
     "execution_count": 4,
     "metadata": {},
     "output_type": "execute_result"
    },
    {
     "data": {
      "image/png": "[encoded data removed]",
      "text/plain": [
       "<Figure size 432x288 with 1 Axes>"
      ]
     },
     "metadata": {
      "needs_background": "light"
     },
     "output_type": "display_data"
    }
   ],
   "source": [
    "sns.boxplot(x=df_merge['rating_category'],y=df_merge['Rating'])"
   ]
  },
  {
   "cell_type": "code",
   "execution_count": 5,
   "metadata": {},
   "outputs": [],
   "source": [
    "## only need to remove punctuation and stemize\n",
    "stemmer = SnowballStemmer('english')\n",
    "\n",
    "def stem_tokens(tokens, stemmer):\n",
    "    stemmed = []\n",
    "    for item in tokens:\n",
    "        stemmed.append(stemmer.stem(item))\n",
    "    return stemmed\n",
    "\n",
    "def tokenize(text):\n",
    "    text = \"\".join([ch for ch in text if ch not in string.punctuation])\n",
    "    tokens = nltk.word_tokenize(text)\n",
    "    stems = stem_tokens(tokens, stemmer)\n",
    "    return stems"
   ]
  },
  {
   "cell_type": "code",
   "execution_count": 6,
   "metadata": {},
   "outputs": [],
   "source": [
    "X_train, X_test, y_train, y_test = train_test_split(df_merge['Reviews'], df_merge['rating_category'], test_size=0.33, random_state=1)"
   ]
  },
  {
   "cell_type": "markdown",
   "metadata": {},
   "source": [
    "# TF-IDF Vectorizer"
   ]
  },
  {
   "cell_type": "code",
   "execution_count": 7,
   "metadata": {},
   "outputs": [
    {
     "name": "stderr",
     "output_type": "stream",
     "text": [
      "/Users/darklord/opt/anaconda3/lib/python3.7/site-packages/sklearn/feature_extraction/text.py:300: UserWarning: Your stop_words may be inconsistent with your preprocessing. Tokenizing the stop words generated tokens ['abov', 'afterward', 'alon', 'alreadi', 'alway', 'ani', 'anoth', 'anyon', 'anyth', 'anywher', 'becam', 'becaus', 'becom', 'befor', 'besid', 'cri', 'describ', 'dure', 'els', 'elsewher', 'empti', 'everi', 'everyon', 'everyth', 'everywher', 'fifti', 'forti', 'henc', 'hereaft', 'herebi', 'howev', 'hundr', 'inde', 'mani', 'meanwhil', 'moreov', 'nobodi', 'noon', 'noth', 'nowher', 'onc', 'onli', 'otherwis', 'ourselv', 'perhap', 'pleas', 'sever', 'sinc', 'sincer', 'sixti', 'someon', 'someth', 'sometim', 'somewher', 'themselv', 'thenc', 'thereaft', 'therebi', 'therefor', 'togeth', 'twelv', 'twenti', 'veri', 'whatev', 'whenc', 'whenev', 'wherea', 'whereaft', 'wherebi', 'wherev', 'whi', 'yourselv'] not in stop_words.\n",
      "  'stop_words.' % sorted(inconsistent))\n"
     ]
    }
   ],
   "source": [
    "# Generate table of words with their counts\n",
    "# TfidfVectorizer transform train and test\n",
    "con_vec = TfidfVectorizer(stop_words='english',tokenizer=tokenize,max_features=20000,ngram_range=(1,2))\n",
    "X_train_tfidf = con_vec.fit_transform(X_train)\n",
    "# with open(\"tfidf_vectorizer.pkl\", 'wb') as handle:\n",
    "#                     pickle.dump(con_vec, handle)\n",
    "y_train_tfidf = y_train\n",
    "X_test_tfidf = con_vec.transform(X_test)\n",
    "y_test_tfidf = y_test\n"
   ]
  },
  {
   "cell_type": "code",
   "execution_count": 14,
   "metadata": {},
   "outputs": [
    {
     "name": "stdout",
     "output_type": "stream",
     "text": [
      "Training set size (226015, 20000)\n",
      "Test set size (111322, 20000)\n",
      "=====================================\n",
      "Sentiment distribution in Test set: \n",
      "Positive    70610\n",
      "Negative    23726\n",
      "Neutral     16986\n",
      "Name: rating_category, dtype: int64\n"
     ]
    }
   ],
   "source": [
    "print(\"Training set size\",X_train_tfidf.shape)\n",
    "print(\"Test set size\",X_test_tfidf.shape)\n",
    "print(\"=====================================\")\n",
    "print(\"Sentiment distribution in Test set: \")\n",
    "print(y_test_tfidf.value_counts())"
   ]
  },
  {
   "cell_type": "code",
   "execution_count": 20,
   "metadata": {},
   "outputs": [
    {
     "data": {
      "text/plain": [
       "['tfidf_Vectorizer.pkl']"
      ]
     },
     "execution_count": 20,
     "metadata": {},
     "output_type": "execute_result"
    }
   ],
   "source": [
    "joblib.dump(con_vec, 'tfidf_vectorizer.pkl')"
   ]
  },
  {
   "cell_type": "markdown",
   "metadata": {},
   "source": [
    "# Logistic Regression with TF-IDF Vectorizer"
   ]
  },
  {
   "cell_type": "code",
   "execution_count": 23,
   "metadata": {},
   "outputs": [
    {
     "name": "stderr",
     "output_type": "stream",
     "text": [
      "/Users/darklord/opt/anaconda3/lib/python3.7/site-packages/sklearn/linear_model/sag.py:337: ConvergenceWarning: The max_iter was reached which means the coef_ did not converge\n",
      "  \"the coef_ did not converge\", ConvergenceWarning)\n"
     ]
    }
   ],
   "source": [
    "lr_tfidf = LogisticRegression(penalty='l1', multi_class='ovr',solver='saga',n_jobs=-1)\n",
    "lr_tfidf.fit(X_train_tfidf,y_train_tfidf)\n",
    "filename = 'logistic_reg_tf_idf.sav'\n",
    "pickle.dump(lr_tfidf, open(filename, 'wb'))"
   ]
  },
  {
   "cell_type": "code",
   "execution_count": 8,
   "metadata": {},
   "outputs": [],
   "source": [
    "lr_tfidf = pickle.load(open('logistic_reg_tf_idf.sav', 'rb'))\n",
    "lr_pred_tfidf = lr_tfidf.predict(X_test_tfidf)"
   ]
  },
  {
   "cell_type": "code",
   "execution_count": 9,
   "metadata": {},
   "outputs": [
    {
     "data": {
      "text/plain": [
       "0.7275201667235587"
      ]
     },
     "execution_count": 9,
     "metadata": {},
     "output_type": "execute_result"
    }
   ],
   "source": [
    "accuracy_score(y_test_tfidf,lr_pred_tfidf)"
   ]
  },
  {
   "cell_type": "code",
   "execution_count": 12,
   "metadata": {},
   "outputs": [
    {
     "data": {
      "text/plain": [
       "0.7275201667235587"
      ]
     },
     "execution_count": 12,
     "metadata": {},
     "output_type": "execute_result"
    }
   ],
   "source": [
    "print(\"F1-score: \",f1_score(y_test_tfidf, lr_pred_tfidf, average='micro'))"
   ]
  },
  {
   "cell_type": "code",
   "execution_count": 29,
   "metadata": {},
   "outputs": [
    {
     "name": "stdout",
     "output_type": "stream",
     "text": [
      "Accuracy on training set: 0.7552905780589784\n",
      "Accuracy on test set: 0.7275201667235587\n"
     ]
    }
   ],
   "source": [
    "print(\"Accuracy on training set: {}\".format(lr_tfidf.score(X_train_tfidf, y_train_tfidf)))\n",
    "print(\"Accuracy on test set: {}\".format(lr_tfidf.score(X_test_tfidf, y_test_tfidf)))\n",
    "lr_cm = confusion_matrix(y_test_tfidf, lr_pred_tfidf)"
   ]
  },
  {
   "cell_type": "code",
   "execution_count": 53,
   "metadata": {},
   "outputs": [
    {
     "name": "stdout",
     "output_type": "stream",
     "text": [
      "['Negative']\n"
     ]
    }
   ],
   "source": [
    "print(lr_tfidf.predict(con_vec.transform([\"The Actavis generic version of this medication was worse than useless, as all of the ADHD hyperactive subtype symptoms my son was experiencing returned within a week of switching to this from the Intuniv ER brand (daily 2mg dose), along with new and potentially dangerous side-effects.  His symptoms had been well-controlled for years prior to the insurance company insisting that we try a generic before they would continue to cover the cost of the brand.\"])))"
   ]
  },
  {
   "cell_type": "code",
   "execution_count": 36,
   "metadata": {},
   "outputs": [
    {
     "name": "stdout",
     "output_type": "stream",
     "text": [
      "['Positive']\n"
     ]
    }
   ],
   "source": [
    "print(lr_tfidf.predict(con_vec.transform([\"Intuniv has made a huge change in my sons attitude.  After being on Strattera for 1.5 years, it stopped working.  It may have been due to a growth spurt, but the sudden change was awful. Intuniv has made a tremendous change and is working.  Intuniv is time released and 1 mg/day does the trick.  I am having to play the insurance game to get it approved and currently have a discount card that sells it for $63.It works great for my son and is worth every dollar it cost.\"])))"
   ]
  },
  {
   "cell_type": "code",
   "execution_count": 39,
   "metadata": {},
   "outputs": [
    {
     "name": "stdout",
     "output_type": "stream",
     "text": [
      "['Positive']\n"
     ]
    }
   ],
   "source": [
    "print(lr_tfidf.predict(con_vec.transform([\"I must say I have been through a lot of medicines. Wasted money but most of all watching my kid struggle with his high anxiety and his inability to focus or sit down. He now focus better in school and his teacher describes him as on task now and takes time to ask her questions if needed. I had a lot of nights crying thinking I was a bad mother! I would lose control and not be able to handle his constant stubbornness and defiance he is a beautiful energetic boy with an amazing personality but just needed to be taken down a few notches. This has done the trick. I started off on 1 mg and did not seem to do to much and after three months decided to move to 2. I tried all natural nothing worked. Good luck.\"])))"
   ]
  },
  {
   "cell_type": "code",
   "execution_count": 41,
   "metadata": {},
   "outputs": [
    {
     "name": "stdout",
     "output_type": "stream",
     "text": [
      "['Negative']\n"
     ]
    }
   ],
   "source": [
    "print(lr_tfidf.predict(con_vec.transform([\"My son was on this medication for 3 weeks.  3 weeks of pure HELL.  He became extremely violent to the point of trying to pull knives on his  brother.  I am not new to the world of bipolar for I have two sons who suffer with it, one being hospitalized over 10 times in 11 months.  This medication was not the right choice for my son, I am sad to say.\"])))"
   ]
  },
  {
   "cell_type": "code",
   "execution_count": 42,
   "metadata": {},
   "outputs": [
    {
     "name": "stdout",
     "output_type": "stream",
     "text": [
      "['Positive']\n"
     ]
    }
   ],
   "source": [
    "print(lr_tfidf.predict(con_vec.transform([\"bet drug in years - just a nice feeling of normal - let's hope it stays!\"])))"
   ]
  },
  {
   "cell_type": "code",
   "execution_count": 44,
   "metadata": {},
   "outputs": [
    {
     "name": "stdout",
     "output_type": "stream",
     "text": [
      "['Neutral']\n"
     ]
    }
   ],
   "source": [
    "print(lr_tfidf.predict(con_vec.transform([\"It's an ok drug for me, but I suffer Manic depression and bipolar plus severe mood swing. Recently I been hearing noises in my head stop taking cymbolta now taking rispadol. Not sure if will work my worst fear is gaining weight. And to stop all my med. Jessiehu\"])))"
   ]
  },
  {
   "cell_type": "code",
   "execution_count": 50,
   "metadata": {},
   "outputs": [
    {
     "name": "stdout",
     "output_type": "stream",
     "text": [
      "['Negative']\n"
     ]
    }
   ],
   "source": [
    "print(lr_tfidf.predict(con_vec.transform([\"on the two week mark... a very serious problem started to occur.. i was angry all the time.. i lost my ability to process anything.. i would say really mean/nasty things to my bf in my sleep.. the rage would get worse each day to the point my bf was scared for his life.. and i couldnt go anywhere along.. cause the smallest thing said to me.. i would seriously injure someone.. i had no fear, no thought process of consequences.. i was scared for other people.. i was in such a dark place.. i never want to be that again.. i have been hospitalized twice in the last 4 years from worsening bipolar symptoms.. and i just had a severe adverse reaction.. i stopped immediately.. instantly the next morning.. i felt like new..\"])))"
   ]
  },
  {
   "cell_type": "markdown",
   "metadata": {},
   "source": [
    "# Random Forests with TF-IDF Vectorizer"
   ]
  },
  {
   "cell_type": "code",
   "execution_count": 30,
   "metadata": {},
   "outputs": [
    {
     "name": "stdout",
     "output_type": "stream",
     "text": [
      "Accuracy on training set: 0.9928234851669137\n",
      "Accuracy on test set: 0.7829090386446524\n"
     ]
    }
   ],
   "source": [
    "clf_rfc = RandomForestClassifier(n_estimators=20).fit(X_train_tfidf, y_train_tfidf)\n",
    "\n",
    "filename = 'random_forest_tf_idf.sav'\n",
    "#pickle.dump(clf_rfc, open(filename, 'wb'))\n",
    "clf_rfc = pickle.load(open(filename, 'rb'))\n",
    "pred_rf = clf_rfc.predict(X_test_tfidf)\n",
    "\n",
    "print(\"Accuracy on training set: {}\".format(clf_rfc.score(X_train_tfidf, y_train_tfidf)))\n",
    "print(\"Accuracy on test set: {}\".format(clf_rfc.score(X_test_tfidf, y_test_tfidf)))\n",
    "rf_cm = confusion_matrix(pred_rf, y_test_tfidf)"
   ]
  },
  {
   "cell_type": "code",
   "execution_count": 16,
   "metadata": {},
   "outputs": [
    {
     "data": {
      "text/plain": [
       "0.7829090386446523"
      ]
     },
     "execution_count": 16,
     "metadata": {},
     "output_type": "execute_result"
    }
   ],
   "source": [
    "filename = 'random_forest_tf_idf.sav'\n",
    "clf_rfc = pickle.load(open(filename, 'rb'))\n",
    "pred_rf = clf_rfc.predict(X_test_tfidf)\n",
    "print(\"F1-score: \",f1_score(y_test_tfidf, pred_rf, average='micro'))"
   ]
  },
  {
   "cell_type": "markdown",
   "metadata": {},
   "source": [
    "# XGBoost with TF-IDF Vectorizer"
   ]
  },
  {
   "cell_type": "code",
   "execution_count": 24,
   "metadata": {},
   "outputs": [
    {
     "name": "stdout",
     "output_type": "stream",
     "text": [
      "Accuracy on training set: 0.8526823440922062\n",
      "Accuracy on test set: 0.7433930400100609\n"
     ]
    }
   ],
   "source": [
    "import xgboost as xgb\n",
    "import sklearn\n",
    "from sklearn.model_selection import RandomizedSearchCV\n",
    "\n",
    "params_random_search = {\n",
    "    'learning_rate': np.arange(0.01, 1.01, 0.01),\n",
    "    'n_estimators': [200],\n",
    "    'max_depth': range(2, 12),\n",
    "    'subsample': np.arange(0.02, 1.02, 0.02)\n",
    "}\n",
    "\n",
    "clf_xgb = xgb.XGBClassifier(objective='multi:softmax',n_estimators=200,max_depth=7,learning_rate=0.99)\n",
    "\n",
    "# randomized_mse = RandomizedSearchCV(param_distributions=params_random_search, estimator=clf_xgb,\n",
    "#                                     scoring=\"neg_log_loss\", n_iter=5, cv=3, verbose=1, iid=True)\n",
    "\n",
    "# randomized_mse.fit(X_train_tfidf, y_train_tfidf)\n",
    "clf_xgb.fit(X_train_tfidf, y_train_tfidf)\n",
    "\n",
    "filename = 'xgboost_tf_idf.sav'\n",
    "#print(\"Best parameters found: \", randomized_mse.best_params_)\n",
    "#Best parameters found:  {'subsample': 0.7000000000000001, 'n_estimators': 200, 'max_depth': 7, 'learning_rate': 0.99}\n",
    "\n",
    "\n",
    "#print(\"Lowest RMSE found: \", np.sqrt(np.abs(randomized_mse.best_score_)))\n",
    "#pickle.dump(clf_xgb, open(filename, 'wb'))\n",
    "#clf_xgb = pickle.load(open(filename, 'rb'))\n",
    "pred_xgb = clf_xgb.predict(X_test_tfidf)\n",
    "\n",
    "print(\"Accuracy on training set: {}\".format(clf_xgb.score(X_train_tfidf, y_train_tfidf)))\n",
    "print(\"Accuracy on test set: {}\".format(clf_xgb.score(X_test_tfidf, y_test_tfidf)))\n",
    "xgb_cm = confusion_matrix(pred_xgb, y_test_tfidf)"
   ]
  },
  {
   "cell_type": "code",
   "execution_count": 17,
   "metadata": {},
   "outputs": [
    {
     "data": {
      "text/plain": [
       "0.7185911140655037"
      ]
     },
     "execution_count": 17,
     "metadata": {},
     "output_type": "execute_result"
    }
   ],
   "source": [
    "filename = 'xgboost_tf_idf.sav'\n",
    "clf_xgb = pickle.load(open(filename, 'rb'))\n",
    "pred_xgb = clf_xgb.predict(X_test_tfidf)\n",
    "print(\"F1-score: \",f1_score(y_test_tfidf, pred_xgb, average='micro'))"
   ]
  },
  {
   "cell_type": "markdown",
   "metadata": {},
   "source": [
    "# SVM with TF-IDF Vectorizer"
   ]
  },
  {
   "cell_type": "code",
   "execution_count": 21,
   "metadata": {},
   "outputs": [
    {
     "name": "stdout",
     "output_type": "stream",
     "text": [
      "Accuracy on training set: 0.784178041280446\n",
      "Accuracy on test set: 0.7276818598300426\n",
      "F1-score:  0.7276818598300426\n"
     ]
    }
   ],
   "source": [
    "clf_svc = LinearSVC(max_iter = 2000).fit(X_train_tfidf, y_train_tfidf)\n",
    "\n",
    "pred_svm = clf_svc.predict(X_test_tfidf)\n",
    "\n",
    "print(\"Accuracy on training set: {}\".format(clf_svc.score(X_train_tfidf, y_train_tfidf)))\n",
    "print(\"Accuracy on test set: {}\".format(clf_svc.score(X_test_tfidf, y_test_tfidf)))\n",
    "svm_cm = confusion_matrix(pred_svm, y_test_tfidf)\n",
    "print(\"F1-score: \",f1_score(y_test_tfidf, pred_svm, average='micro'))"
   ]
  },
  {
   "cell_type": "markdown",
   "metadata": {},
   "source": [
    "# SGD Classifier with TF-IDF Vectorizer"
   ]
  },
  {
   "cell_type": "code",
   "execution_count": 22,
   "metadata": {},
   "outputs": [
    {
     "name": "stdout",
     "output_type": "stream",
     "text": [
      "Accuracy on training set: 0.7038426653098245\n",
      "Accuracy on test set: 0.6972386410592695\n",
      "F1-score:  0.6972386410592695\n"
     ]
    }
   ],
   "source": [
    "clf_sgd = SGDClassifier(max_iter = 2000).fit(X_train_tfidf, y_train_tfidf)\n",
    "\n",
    "pred_sgd = clf_sgd.predict(X_test_tfidf)\n",
    "\n",
    "print(\"Accuracy on training set: {}\".format(clf_sgd.score(X_train_tfidf, y_train_tfidf)))\n",
    "print(\"Accuracy on test set: {}\".format(clf_sgd.score(X_test_tfidf, y_test_tfidf)))\n",
    "sgd_cm = confusion_matrix(pred_sgd, y_test_tfidf)\n",
    "print(\"F1-score: \",f1_score(y_test_tfidf, pred_sgd, average='micro'))"
   ]
  },
  {
   "cell_type": "markdown",
   "metadata": {},
   "source": [
    "# Naive Bayes with TF-IDF Vectorizer"
   ]
  },
  {
   "cell_type": "code",
   "execution_count": 23,
   "metadata": {},
   "outputs": [
    {
     "name": "stdout",
     "output_type": "stream",
     "text": [
      "Accuracy on training set: 0.7191159878769108\n",
      "Accuracy on test set: 0.7052514327805824\n",
      "F1-score:  0.7052514327805824\n"
     ]
    }
   ],
   "source": [
    "clf_nb = MultinomialNB(alpha=0.01).fit(X_train_tfidf, y_train_tfidf)\n",
    "\n",
    "pred_nb = clf_nb.predict(X_test_tfidf)\n",
    "\n",
    "print(\"Accuracy on training set: {}\".format(clf_nb.score(X_train_tfidf, y_train_tfidf)))\n",
    "print(\"Accuracy on test set: {}\".format(clf_nb.score(X_test_tfidf, y_test_tfidf)))\n",
    "nb_cm = confusion_matrix(pred_nb, y_test_tfidf)\n",
    "print(\"F1-score: \",f1_score(y_test_tfidf, pred_nb, average='micro'))"
   ]
  },
  {
   "cell_type": "markdown",
   "metadata": {},
   "source": [
    "# Plot Confusion Matrix"
   ]
  },
  {
   "cell_type": "code",
   "execution_count": 38,
   "metadata": {},
   "outputs": [
    {
     "name": "stderr",
     "output_type": "stream",
     "text": [
      "/Users/darklord/opt/anaconda3/lib/python3.7/site-packages/ipykernel_launcher.py:28: UserWarning: Tight layout not applied. tight_layout cannot make axes width small enough to accommodate all axes decorations\n"
     ]
    },
    {
     "data": {
      "image/png": "[encoded data removed]",
      "text/plain": [
       "<Figure size 2160x720 with 24 Axes>"
      ]
     },
     "metadata": {
      "needs_background": "light"
     },
     "output_type": "display_data"
    }
   ],
   "source": [
    "from mpl_toolkits.axes_grid1 import make_axes_locatable\n",
    "\n",
    "def plot_confusion_matrix_subplots(conf_mat,ax1,ax2,cbar=True):\n",
    "    conf_mat_percentage = conf_mat/(conf_mat.sum(1).reshape(-1,1))\n",
    "\n",
    "    conf_mat = pd.DataFrame(conf_mat,index=['Negative','Neutral','Positive'],columns=['Negative','Neutral','Positive'])\n",
    "    conf_mat_percentage = pd.DataFrame(conf_mat_percentage,index=['Negative','Neutral','Positive'],columns=['Negative','Neutral','Positive'])\n",
    "    \n",
    "    sns.heatmap(conf_mat, annot=True,fmt=\"d\",cmap=\"PuBuGn\",cbar=cbar,ax=ax1)\n",
    "    sns.heatmap(conf_mat_percentage, annot=True,fmt=\".2f\",cmap=\"PuBuGn\",cbar=cbar,ax=ax2)\n",
    "\n",
    "\n",
    "fig, axes = plt.subplots(2, 6, figsize=(30,10))\n",
    "plot_confusion_matrix_subplots(lr_cm,axes[0,0],axes[1,0])\n",
    "plot_confusion_matrix_subplots(nb_cm,axes[0,1],axes[1,1])\n",
    "plot_confusion_matrix_subplots(rf_cm,axes[0,2],axes[1,2])\n",
    "plot_confusion_matrix_subplots(svm_cm,axes[0,3],axes[1,3])\n",
    "plot_confusion_matrix_subplots(sgd_cm,axes[0,4],axes[1,4])\n",
    "plot_confusion_matrix_subplots(xgb_cm,axes[0,5],axes[1,5])\n",
    "axes[0,0].set_title(\"Logistic Regression\",fontsize=20)\n",
    "axes[0,1].set_title(\"Naive Bayes\",fontsize=20)\n",
    "axes[0,2].set_title(\"Random Forest\",fontsize=20)\n",
    "axes[0,3].set_title(\"SVM Linear\",fontsize=20)\n",
    "axes[0,4].set_title(\"SGD\",fontsize=20)\n",
    "axes[0,5].set_title(\"XGBoost\",fontsize=20)\n",
    "plt.text(-23.5,-0.5,\"Actual\",fontsize=20,rotation=90)\n",
    "plt.text(-9,3.7,\"Predicted\",fontsize=20)\n",
    "plt.tight_layout()\n",
    "plt.savefig(\"confusion_matrix_ml_models.png\")"
   ]
  },
  {
   "cell_type": "markdown",
   "metadata": {},
   "source": [
    "# Deep Neural Network : MLP (Multilayer Perceptron)"
   ]
  },
  {
   "cell_type": "code",
   "execution_count": 95,
   "metadata": {},
   "outputs": [],
   "source": [
    "from tensorflow.python.keras.models import Sequential\n",
    "from tensorflow.python.keras.layers import Dense, Bidirectional, LSTM, BatchNormalization, Dropout\n",
    "from tensorflow.python.keras.preprocessing.sequence import pad_sequences"
   ]
  },
  {
   "cell_type": "code",
   "execution_count": 110,
   "metadata": {},
   "outputs": [],
   "source": [
    "import numpy as np\n",
    "import keras\n",
    "from keras.models import Sequential\n",
    "from keras.layers import Dense\n",
    "from keras.callbacks import ModelCheckpoint\n",
    "\n",
    "# Model Structure\n",
    "model = keras.models.Sequential()\n",
    "\n",
    "model.add(keras.layers.Dense(256,input_shape=(20000,)))\n",
    "model.add(keras.layers.BatchNormalization())\n",
    "model.add(keras.layers.Activation('relu'))\n",
    "model.add(keras.layers.Dropout(0.5))\n",
    "\n",
    "model.add(keras.layers.Dense(300))\n",
    "model.add(keras.layers.BatchNormalization())\n",
    "model.add(keras.layers.Activation('relu'))\n",
    "model.add(keras.layers.Dropout(0.5))\n",
    "\n",
    "model.add(keras.layers.Dense(100, activation='relu'))\n",
    "model.add(keras.layers.Dense(3, activation='softmax'))\n",
    "\n",
    "# Model compile\n",
    "model.compile(optimizer='adam', loss='categorical_crossentropy', metrics=['accuracy'])"
   ]
  },
  {
   "cell_type": "code",
   "execution_count": 111,
   "metadata": {},
   "outputs": [
    {
     "name": "stdout",
     "output_type": "stream",
     "text": [
      "\n",
      "Epoch 00001: val_accuracy improved from -inf to 0.82471, saving model to best_weights.hdf5\n",
      "\n",
      "Epoch 00002: val_accuracy improved from 0.82471 to 0.82983, saving model to best_weights.hdf5\n",
      "\n",
      "Epoch 00003: val_accuracy improved from 0.82983 to 0.83029, saving model to best_weights.hdf5\n",
      "\n",
      "Epoch 00004: val_accuracy did not improve from 0.83029\n",
      "\n",
      "Epoch 00005: val_accuracy did not improve from 0.83029\n",
      "\n",
      "Epoch 00006: val_accuracy did not improve from 0.83029\n",
      "\n",
      "Epoch 00007: val_accuracy did not improve from 0.83029\n",
      "\n",
      "Epoch 00008: val_accuracy did not improve from 0.83029\n",
      "\n",
      "Epoch 00009: val_accuracy did not improve from 0.83029\n",
      "\n",
      "Epoch 00010: val_accuracy did not improve from 0.83029\n",
      "\n",
      "Epoch 00011: val_accuracy did not improve from 0.83029\n",
      "\n",
      "Epoch 00012: val_accuracy did not improve from 0.83029\n",
      "\n",
      "Epoch 00013: val_accuracy did not improve from 0.83029\n",
      "\n",
      "Epoch 00014: val_accuracy did not improve from 0.83029\n",
      "\n",
      "Epoch 00015: val_accuracy did not improve from 0.83029\n",
      "\n",
      "Epoch 00016: val_accuracy did not improve from 0.83029\n",
      "\n",
      "Epoch 00017: val_accuracy did not improve from 0.83029\n",
      "\n",
      "Epoch 00018: val_accuracy did not improve from 0.83029\n",
      "\n",
      "Epoch 00019: val_accuracy did not improve from 0.83029\n",
      "\n",
      "Epoch 00020: val_accuracy did not improve from 0.83029\n"
     ]
    }
   ],
   "source": [
    "# Transform y to 3 categories using get_dummies()\n",
    "y_train = pd.get_dummies(y_train_tfidf)\n",
    "y_test = pd.get_dummies(y_test_tfidf)\n",
    "checkpoint = ModelCheckpoint(filepath='best_weights.hdf5', monitor='val_accuracy', verbose=1, save_best_only=True, mode='max')\n",
    "callbacks_list = [checkpoint]\n",
    "hist = model.fit(X_train_tfidf, y_train, epochs=20, batch_size=128,validation_split=0.4, callbacks=callbacks_list, verbose=False)\n",
    "\n",
    "model.save('sequential_model.h5')"
   ]
  },
  {
   "cell_type": "code",
   "execution_count": 133,
   "metadata": {},
   "outputs": [],
   "source": [
    "from keras.models import load_model\n",
    "seq_model = load_model('sequential_model.h5')"
   ]
  },
  {
   "cell_type": "code",
   "execution_count": 123,
   "metadata": {},
   "outputs": [
    {
     "name": "stdout",
     "output_type": "stream",
     "text": [
      "111322/111322 [==============================] - 12s 107us/step\n",
      "loss_and_accuracy : [0.7133438896686114, 0.8278539180755615]\n"
     ]
    }
   ],
   "source": [
    "loss_and_accuracy = seq_model.evaluate(X_test_tfidf, y_test, batch_size=64)\n",
    "print('loss_and_accuracy : ' + str(loss_and_accuracy))"
   ]
  },
  {
   "cell_type": "markdown",
   "metadata": {},
   "source": [
    "### Accuracy vs Loss Plot "
   ]
  },
  {
   "cell_type": "code",
   "execution_count": 124,
   "metadata": {},
   "outputs": [
    {
     "data": {
      "text/plain": [
       "<matplotlib.legend.Legend at 0x1a28418650>"
      ]
     },
     "execution_count": 124,
     "metadata": {},
     "output_type": "execute_result"
    },
    {
     "data": {
      "image/png": "[encoded data removed]",
      "text/plain": [
       "<Figure size 432x288 with 2 Axes>"
      ]
     },
     "metadata": {
      "needs_background": "light"
     },
     "output_type": "display_data"
    }
   ],
   "source": [
    "%matplotlib inline\n",
    "import matplotlib.pyplot as plt\n",
    "\n",
    "fig, loss_ax = plt.subplots()\n",
    "\n",
    "acc_ax = loss_ax.twinx()\n",
    "\n",
    "loss_ax.set_ylim([0.0, 1.0])\n",
    "acc_ax.set_ylim([0.0, 1.0])\n",
    "\n",
    "loss_ax.plot(hist.history['loss'],'y', label='train')\n",
    "acc_ax.plot(hist.history['accuracy'],'g', label='accuracy')\n",
    "\n",
    "loss_ax.set_xlabel('epoch')\n",
    "loss_ax.set_ylabel('loss')\n",
    "acc_ax.set_ylabel('accuray')\n",
    "\n",
    "loss_ax.legend(loc='upper right')\n",
    "acc_ax.legend(loc='upper right')\n",
    "\n"
   ]
  },
  {
   "cell_type": "markdown",
   "metadata": {},
   "source": [
    "### Sequential Model Predictions (Sentiment Distribution)"
   ]
  },
  {
   "cell_type": "code",
   "execution_count": null,
   "metadata": {},
   "outputs": [],
   "source": [
    "preds_seq = seq_model.predict_classes(X_test_tfidf)"
   ]
  },
  {
   "cell_type": "code",
   "execution_count": 150,
   "metadata": {},
   "outputs": [
    {
     "data": {
      "text/plain": [
       "(array([0, 1, 2]), array([28268,  9785, 73269]))"
      ]
     },
     "execution_count": 150,
     "metadata": {},
     "output_type": "execute_result"
    }
   ],
   "source": [
    "np.unique(preds_seq,return_counts=True)"
   ]
  },
  {
   "cell_type": "markdown",
   "metadata": {},
   "source": [
    "### Sentiment Prediction on few reviews from original dataset"
   ]
  },
  {
   "cell_type": "markdown",
   "metadata": {},
   "source": [
    "#### 0 --> Negative , 1 --> Neutral , 2 --> Positive"
   ]
  },
  {
   "cell_type": "code",
   "execution_count": 107,
   "metadata": {},
   "outputs": [
    {
     "data": {
      "text/plain": [
       "array([1])"
      ]
     },
     "execution_count": 107,
     "metadata": {},
     "output_type": "execute_result"
    }
   ],
   "source": [
    "seq_model.predict_classes(con_vec.transform([\"hello\"]))"
   ]
  },
  {
   "cell_type": "code",
   "execution_count": 125,
   "metadata": {},
   "outputs": [
    {
     "data": {
      "text/plain": [
       "array([1])"
      ]
     },
     "execution_count": 125,
     "metadata": {},
     "output_type": "execute_result"
    }
   ],
   "source": [
    "seq_model.predict_classes(con_vec.transform([\"I only took this medication for about a week due to the difficulty I had sleeping after starting it. \"]))"
   ]
  },
  {
   "cell_type": "code",
   "execution_count": 163,
   "metadata": {},
   "outputs": [
    {
     "data": {
      "text/plain": [
       "array([0])"
      ]
     },
     "execution_count": 163,
     "metadata": {},
     "output_type": "execute_result"
    }
   ],
   "source": [
    "seq_model.predict_classes(con_vec.transform([\"very bad\"]))"
   ]
  },
  {
   "cell_type": "code",
   "execution_count": 127,
   "metadata": {},
   "outputs": [
    {
     "data": {
      "text/plain": [
       "array([0])"
      ]
     },
     "execution_count": 127,
     "metadata": {},
     "output_type": "execute_result"
    }
   ],
   "source": [
    "seq_model.predict_classes(con_vec.transform([\"We began with night wakings then more aggression. He was never aggressive like this before. Raised to 2 mg symptoms increased again. Still hyper and seemed worse than before. Upon reducing back to 1 mg to none it&#039;s been a nightmare. Red red cheeks. Bouncing off walls. Bouncing Up till 3 am. Starting to come down a bit but oh my god the havoc on his mind and body and us plus no sleep. Doc said there wouldn&#039;t be any withdrawal \"]))"
   ]
  },
  {
   "cell_type": "code",
   "execution_count": 128,
   "metadata": {},
   "outputs": [
    {
     "data": {
      "text/plain": [
       "array([1])"
      ]
     },
     "execution_count": 128,
     "metadata": {},
     "output_type": "execute_result"
    }
   ],
   "source": [
    "seq_model.predict_classes(con_vec.transform([\"It's an ok drug for me, but I suffer Manic depression and bipolar plus severe mood swing. Recently I been hearing noises in my head stop taking cymbolta now taking rispadol. Not sure if will work my worst fear is gaining weight. And to stop all my med. Jessiehu\"]))"
   ]
  },
  {
   "cell_type": "code",
   "execution_count": 130,
   "metadata": {},
   "outputs": [
    {
     "data": {
      "text/plain": [
       "array([2])"
      ]
     },
     "execution_count": 130,
     "metadata": {},
     "output_type": "execute_result"
    }
   ],
   "source": [
    "seq_model.predict_classes(con_vec.transform([\"I must say I have been through a lot of medicines. Wasted money but most of all watching my kid struggle with his high anxiety and his inability to focus or sit down. He now focus better in school and his teacher describes him as on task now and takes time to ask her questions if needed. I had a lot of nights crying thinking I was a bad mother! I would lose control and not be able to handle his constant stubbornness and defiance he is a beautiful energetic boy with an amazing personality but just needed to be taken down a few notches. This has done the trick. I started off on 1 mg and did not seem to do to much and after three months decided to move to 2. I tried all natural nothing worked. Good luck.\"]))"
   ]
  },
  {
   "cell_type": "code",
   "execution_count": 131,
   "metadata": {},
   "outputs": [
    {
     "data": {
      "text/plain": [
       "array([0])"
      ]
     },
     "execution_count": 131,
     "metadata": {},
     "output_type": "execute_result"
    }
   ],
   "source": [
    "seq_model.predict_classes(con_vec.transform([\"We started my 5 yr old on this, the 1 worked for him for a few weeks, then we noted an increase in aggression and hyperactivity. They upped him to 2 mg and now he has not slept in days no more than 4 hours a night and then he wakes and starts kicking the door to his room and screams at the top of his lungs until we get him up, he has trashed his bedroom and said he noticed curtains moving when there are no movement. He is loud and violent and swearing, I called the DR right away after the first night of him saying his curtain rod was moving, so they said take it at night instead, but then waking up for a week at 3 am has been a nightmare. We are so stressed and over whelmed with this behavior he is out of control.\"]))"
   ]
  },
  {
   "cell_type": "code",
   "execution_count": 165,
   "metadata": {},
   "outputs": [
    {
     "data": {
      "text/plain": [
       "array([0])"
      ]
     },
     "execution_count": 165,
     "metadata": {},
     "output_type": "execute_result"
    }
   ],
   "source": [
    "seq_model.predict_classes(con_vec.transform([\"Our son was diagnosed with ADD when he was in grade 5-he was started on vyvanse and after a few months and a dose increase developed psychotic episodes.  This experience scared the life out of me so we stopped the drug and revisited pharmaceuticals with our pediatrician.She suggested Intuniv and we tried it. Our son has been on the drug now for almost 4 years-he is on the max dose for his age (3 mg) (?) and I honestly can&#039;t see if there is a difference.  He has had no visible side effects-nothing like I have been reading about above. If anything he has put on weight (it is not a stimulant).We are going to try weaning him off in the next few months to see if there is a difference in schoolwork and to see if the med is really working.\"]))"
   ]
  },
  {
   "cell_type": "code",
   "execution_count": 166,
   "metadata": {},
   "outputs": [
    {
     "data": {
      "text/plain": [
       "array([1])"
      ]
     },
     "execution_count": 166,
     "metadata": {},
     "output_type": "execute_result"
    }
   ],
   "source": [
    "seq_model.predict_classes(con_vec.transform([\"Had mierna for about 6 months. Was told that it would help my cysts disappear and it had little to no side effects. It was a great thing being that i got pregant with my son while on the pill. This was 5 years, check string, no periods, and all that. Well starting 2 months after having it in which would be july 2015 i started experiencing pain in my lower abdomen, back and my left leg/foot. It wasnt bad then every month from july 2015 until this month nov 2015 i was in more and more pain. No doctor could explain why. Finally decided to have it removed a few days ago. Best decision i made because the same day i started feeling better. All the pain was going away or gone. It's a good form of birth control but isnt for every women.\"]))"
   ]
  },
  {
   "cell_type": "code",
   "execution_count": 167,
   "metadata": {},
   "outputs": [
    {
     "data": {
      "text/plain": [
       "array([2])"
      ]
     },
     "execution_count": 167,
     "metadata": {},
     "output_type": "execute_result"
    }
   ],
   "source": [
    "seq_model.predict_classes(con_vec.transform([\"Makes me feel bad all the time.\"]))"
   ]
  },
  {
   "cell_type": "code",
   "execution_count": 135,
   "metadata": {},
   "outputs": [
    {
     "data": {
      "text/plain": [
       "array([0])"
      ]
     },
     "execution_count": 135,
     "metadata": {},
     "output_type": "execute_result"
    }
   ],
   "source": [
    "seq_model.predict_classes(con_vec.transform([\"placed on for 90 days and had to be cardioverted x2. Tried exercising and put me back into afib. Terrible diarrhea! twice day dosing and 5 dollars a pill! Too expensive for my taste\"]))"
   ]
  },
  {
   "cell_type": "code",
   "execution_count": 136,
   "metadata": {},
   "outputs": [
    {
     "data": {
      "text/plain": [
       "array([0])"
      ]
     },
     "execution_count": 136,
     "metadata": {},
     "output_type": "execute_result"
    }
   ],
   "source": [
    "seq_model.predict_classes(con_vec.transform([\"The extreme fatigue is awful, been on this drug for about 7 weeks and it gets worse the longer I am on it. Is this normal?\"]))"
   ]
  },
  {
   "cell_type": "code",
   "execution_count": 137,
   "metadata": {},
   "outputs": [
    {
     "data": {
      "text/plain": [
       "array([0])"
      ]
     },
     "execution_count": 137,
     "metadata": {},
     "output_type": "execute_result"
    }
   ],
   "source": [
    "seq_model.predict_classes(con_vec.transform([\"Does not work.  Gotten, lightheaded, dehydrated, nausea ,difficulty breathing.  Also had forgetfulness.  Am now scheduled for a Cardiac Ablation.  I sure hope it helps.\"]))"
   ]
  },
  {
   "cell_type": "code",
   "execution_count": 138,
   "metadata": {},
   "outputs": [
    {
     "data": {
      "text/plain": [
       "array([2])"
      ]
     },
     "execution_count": 138,
     "metadata": {},
     "output_type": "execute_result"
    }
   ],
   "source": [
    "seq_model.predict_classes(con_vec.transform([\"Currently I am taking 80mg twice a day.  I started out with 120mg twice a day, but Dr reduced dosage after a while.  I have been aking Sotalol since July 2010 and have not any more rapid heart beat (AFIB) nor suffered any other adverse side affect. from this medication.\"]))"
   ]
  },
  {
   "cell_type": "code",
   "execution_count": 139,
   "metadata": {},
   "outputs": [
    {
     "data": {
      "text/plain": [
       "array([2])"
      ]
     },
     "execution_count": 139,
     "metadata": {},
     "output_type": "execute_result"
    }
   ],
   "source": [
    "seq_model.predict_classes(con_vec.transform([\"A fib is no fun. I tried other drugs but this one is the one that is working. \"]))"
   ]
  },
  {
   "cell_type": "code",
   "execution_count": 140,
   "metadata": {},
   "outputs": [
    {
     "data": {
      "text/plain": [
       "array([0])"
      ]
     },
     "execution_count": 140,
     "metadata": {},
     "output_type": "execute_result"
    }
   ],
   "source": [
    "seq_model.predict_classes(con_vec.transform([\"when i strated taking the medication i was fine. i was taking my diuretic in the evening and isoniazid at 11:25am. i noticed that just about 1 hour or so before my next dosage i would become dizzy and weak. about an hour or so after taking it i would be myself again. but i didn't felt comfortable i felt to tired and weak. i went to my doctor and took me off the medication. in 2 wks im supposed to go back and get another medicine and im praying to GOD that everything goes well the 2nd time around. i really dont know if this is ok but i guess the doctors didnt want to take a risk. the doctor even told me that it was not a common symptom but that i had to get off the medication. i hope all goes well. \"]))"
   ]
  },
  {
   "cell_type": "code",
   "execution_count": 141,
   "metadata": {},
   "outputs": [
    {
     "data": {
      "text/plain": [
       "array([0])"
      ]
     },
     "execution_count": 141,
     "metadata": {},
     "output_type": "execute_result"
    }
   ],
   "source": [
    "seq_model.predict_classes(con_vec.transform([\"I AM HAVING A JERKING REACTION IN MY BODY, I EVEN CAN FEEL IT IN MY HEAD,MY MOUTH JURKES OPEN WHEN I DON'T WANT TO,IN MY HEAD I FEEL A JERKING.PLEASE HELP!MY DOCTOR SAYS TAKE, IT DON'T CAUSE THIS.THE BOTTLE SAYS IT MESS WITH YOUR NERVIOUS SYSTEM.WHAT CAN I DO?\"]))"
   ]
  },
  {
   "cell_type": "markdown",
   "metadata": {},
   "source": [
    "# LightGBM"
   ]
  },
  {
   "cell_type": "code",
   "execution_count": null,
   "metadata": {},
   "outputs": [],
   "source": [
    "from sklearn.model_selection import KFold\n",
    "from lightgbm import LGBMClassifier\n",
    "\n",
    "\n",
    "#folds = KFold(n_splits=5, shuffle=True, random_state=546789)\n",
    "# target = df_train['sentiment']\n",
    "# feats = ['usefulCount']\n",
    "\n",
    "#sub_preds = np.zeros(df_test.shape[0])\n",
    "\n",
    "x_train, x_test, Y_train, Y_test = train_test_split(df_merge['Reviews'], df_merge['rating_category'], test_size=0.2, random_state=42) \n",
    "#feature_importance_df = pd.DataFrame() \n",
    "    \n",
    "clf_lgbm = LGBMClassifier(\n",
    "        n_estimators=2000,\n",
    "        learning_rate=0.05,\n",
    "        num_leaves=30,\n",
    "        #colsample_bytree=.9,\n",
    "        subsample=.9,\n",
    "        max_depth=7,\n",
    "        reg_alpha=.1,\n",
    "        reg_lambda=.1,\n",
    "        min_split_gain=.01,\n",
    "        min_child_weight=2,\n",
    "        silent=-1,\n",
    "        verbose=-1,\n",
    "        )\n",
    "        \n",
    "clf_lgbm.fit(x_train, Y_train, verbose=100, early_stopping_rounds=100)\n",
    "\n",
    "preds_lgbm = clf_lgbm.predict(x_test)\n",
    "\n",
    "print(\"Accuracy on training set: {}\".format(clf_lgbm.score(x_train, Y_train)))\n",
    "print(\"Accuracy on test set: {}\".format(clf_lgbm.score(x_test, Y_test)))\n",
    "print(\"Confusion Matrix\")\n",
    "print(confusion_matrix(preds_lgbm, Y_test))\n",
    "        \n",
    "# fold_importance_df = pd.DataFrame()\n",
    "# fold_importance_df[\"feature\"] = feats\n",
    "# fold_importance_df[\"importance\"] = clf.feature_importances_\n",
    "# feature_importance_df = pd.concat([feature_importance_df, fold_importance_df], axis=0)"
   ]
  },
  {
   "cell_type": "markdown",
   "metadata": {},
   "source": [
    "# Hashing Vectorizer"
   ]
  },
  {
   "cell_type": "code",
   "execution_count": 24,
   "metadata": {},
   "outputs": [
    {
     "data": {
      "text/plain": [
       "(337337, 200000)"
      ]
     },
     "execution_count": 24,
     "metadata": {},
     "output_type": "execute_result"
    }
   ],
   "source": [
    "from sklearn.feature_extraction.text import HashingVectorizer\n",
    "text_data = df_merge['Reviews']\n",
    "TOKENS_ALPHANUMERIC = '[A-Za-z0-9]+(?=\\\\s+)'\n",
    "hashing_vect = HashingVectorizer(token_pattern=TOKENS_ALPHANUMERIC, stop_words='english', n_features=200000, norm=None, binary=False, ngram_range=(1,2))\n",
    "hashed_text = hashing_vect.fit_transform(text_data)\n",
    "hashed_df = pd.DataFrame(hashed_text.data)\n",
    "hashed_text.shape"
   ]
  },
  {
   "cell_type": "code",
   "execution_count": 25,
   "metadata": {},
   "outputs": [],
   "source": [
    "X_train_h, X_test_h, y_train_h, y_test_h = train_test_split(hashed_text, df_merge['rating_category'], random_state=42, stratify=df_merge['rating_category'])"
   ]
  },
  {
   "cell_type": "markdown",
   "metadata": {},
   "source": [
    "# Logistic Regression with Hashing Vectorizer"
   ]
  },
  {
   "cell_type": "code",
   "execution_count": 28,
   "metadata": {},
   "outputs": [
    {
     "name": "stderr",
     "output_type": "stream",
     "text": [
      "/Users/darklord/opt/anaconda3/lib/python3.7/site-packages/sklearn/linear_model/logistic.py:469: FutureWarning: Default multi_class will be changed to 'auto' in 0.22. Specify the multi_class option to silence this warning.\n",
      "  \"this warning.\", FutureWarning)\n"
     ]
    },
    {
     "name": "stdout",
     "output_type": "stream",
     "text": [
      "Accuracy on training set: 0.9605813392779504\n",
      "Accuracy on test set: 0.7728701013813957\n",
      "F1-score:  0.7728701013813957\n"
     ]
    }
   ],
   "source": [
    "clf_lr_hash = LogisticRegression(penalty='l2', solver='lbfgs',max_iter=2000).fit(X_train_h, y_train_h)\n",
    "\n",
    "filename = 'logistic_reg_hash.sav'\n",
    "pickle.dump(clf_lr_hash, open(filename, 'wb'))\n",
    "#pickle.load(open(filename, 'rb'))\n",
    "pred_lr_hash = clf_lr_hash.predict(X_test_h)\n",
    "\n",
    "print(\"Accuracy on training set: {}\".format(clf_lr_hash.score(X_train_h, y_train_h)))\n",
    "print(\"Accuracy on test set: {}\".format(clf_lr_hash.score(X_test_h, y_test_h)))\n",
    "lr_cm_hash = confusion_matrix(pred_lr_hash, y_test_h)\n",
    "print(\"F1-score: \",f1_score(y_test_h, pred_lr_hash, average='micro'))"
   ]
  },
  {
   "cell_type": "markdown",
   "metadata": {},
   "source": [
    "# Logistic Regression CV with Hashing Vectorizer"
   ]
  },
  {
   "cell_type": "code",
   "execution_count": 29,
   "metadata": {},
   "outputs": [
    {
     "name": "stderr",
     "output_type": "stream",
     "text": [
      "/Users/darklord/opt/anaconda3/lib/python3.7/site-packages/sklearn/linear_model/logistic.py:469: FutureWarning: Default multi_class will be changed to 'auto' in 0.22. Specify the multi_class option to silence this warning.\n",
      "  \"this warning.\", FutureWarning)\n",
      "/Users/darklord/opt/anaconda3/lib/python3.7/site-packages/sklearn/linear_model/logistic.py:947: ConvergenceWarning: lbfgs failed to converge. Increase the number of iterations.\n",
      "  \"of iterations.\", ConvergenceWarning)\n",
      "/Users/darklord/opt/anaconda3/lib/python3.7/site-packages/sklearn/linear_model/logistic.py:947: ConvergenceWarning: lbfgs failed to converge. Increase the number of iterations.\n",
      "  \"of iterations.\", ConvergenceWarning)\n",
      "/Users/darklord/opt/anaconda3/lib/python3.7/site-packages/sklearn/linear_model/logistic.py:947: ConvergenceWarning: lbfgs failed to converge. Increase the number of iterations.\n",
      "  \"of iterations.\", ConvergenceWarning)\n",
      "/Users/darklord/opt/anaconda3/lib/python3.7/site-packages/sklearn/linear_model/logistic.py:947: ConvergenceWarning: lbfgs failed to converge. Increase the number of iterations.\n",
      "  \"of iterations.\", ConvergenceWarning)\n",
      "/Users/darklord/opt/anaconda3/lib/python3.7/site-packages/sklearn/linear_model/logistic.py:947: ConvergenceWarning: lbfgs failed to converge. Increase the number of iterations.\n",
      "  \"of iterations.\", ConvergenceWarning)\n",
      "/Users/darklord/opt/anaconda3/lib/python3.7/site-packages/sklearn/linear_model/logistic.py:947: ConvergenceWarning: lbfgs failed to converge. Increase the number of iterations.\n",
      "  \"of iterations.\", ConvergenceWarning)\n",
      "/Users/darklord/opt/anaconda3/lib/python3.7/site-packages/sklearn/linear_model/logistic.py:947: ConvergenceWarning: lbfgs failed to converge. Increase the number of iterations.\n",
      "  \"of iterations.\", ConvergenceWarning)\n",
      "/Users/darklord/opt/anaconda3/lib/python3.7/site-packages/sklearn/linear_model/logistic.py:947: ConvergenceWarning: lbfgs failed to converge. Increase the number of iterations.\n",
      "  \"of iterations.\", ConvergenceWarning)\n",
      "/Users/darklord/opt/anaconda3/lib/python3.7/site-packages/sklearn/linear_model/logistic.py:947: ConvergenceWarning: lbfgs failed to converge. Increase the number of iterations.\n",
      "  \"of iterations.\", ConvergenceWarning)\n"
     ]
    },
    {
     "name": "stdout",
     "output_type": "stream",
     "text": [
      "Accuracy on training set: 0.9238780721101019\n",
      "Accuracy on test set: 0.7674512361415782\n",
      "F1-score:  0.7674512361415781\n"
     ]
    }
   ],
   "source": [
    "clf_lr_cv = LogisticRegressionCV(cv=3,max_iter=2000,random_state=123).fit(X_train_h, y_train_h)\n",
    "\n",
    "filename = 'logistic_reg_hash_cv.sav'\n",
    "pickle.dump(clf_lr_cv, open(filename, 'wb'))\n",
    "#pickle.load(open(filename, 'rb'))\n",
    "pred_lr_cv = clf_lr_cv.predict(X_test_h)\n",
    "\n",
    "print(\"Accuracy on training set: {}\".format(clf_lr_cv.score(X_train_h, y_train_h)))\n",
    "print(\"Accuracy on test set: {}\".format(clf_lr_cv.score(X_test_h, y_test_h)))\n",
    "lr_cv_cm = confusion_matrix(pred_lr_cv, y_test_h)\n",
    "print(\"F1-score: \",f1_score(y_test_h, pred_lr_cv, average='micro'))"
   ]
  },
  {
   "cell_type": "markdown",
   "metadata": {},
   "source": [
    "# Random Forests with Hashing Vectorizer"
   ]
  },
  {
   "cell_type": "code",
   "execution_count": 32,
   "metadata": {},
   "outputs": [
    {
     "name": "stdout",
     "output_type": "stream",
     "text": [
      "Accuracy on training set: 0.983411198330448\n",
      "Accuracy on test set: 0.7788106954408016\n",
      "F1-score:  0.7788106954408016\n"
     ]
    }
   ],
   "source": [
    "clf_rfc_hash = RandomForestClassifier(n_estimators=10).fit(X_train_h, y_train_h)\n",
    "\n",
    "filename = 'random_forest_hash.sav'\n",
    "pickle.dump(clf_rfc_hash, open(filename, 'wb'))\n",
    "#pickle.load(open(filename, 'rb'))\n",
    "pred_rf_hash = clf_rfc_hash.predict(X_test_h)\n",
    "\n",
    "print(\"Accuracy on training set: {}\".format(clf_rfc_hash.score(X_train_h, y_train_h)))\n",
    "print(\"Accuracy on test set: {}\".format(clf_rfc_hash.score(X_test_h, y_test_h)))\n",
    "rf_cm_hash = confusion_matrix(pred_rf_hash, y_test_h)\n",
    "print(\"F1-score: \",f1_score(y_test_h, pred_rf_hash, average='micro'))"
   ]
  },
  {
   "cell_type": "markdown",
   "metadata": {},
   "source": [
    "# SVM with Hashing Vectorizer"
   ]
  },
  {
   "cell_type": "code",
   "execution_count": 34,
   "metadata": {},
   "outputs": [
    {
     "name": "stdout",
     "output_type": "stream",
     "text": [
      "Accuracy on training set: 0.9865060355254108\n",
      "Accuracy on test set: 0.7552380387739372\n",
      "F1-score:  0.7552380387739372\n"
     ]
    }
   ],
   "source": [
    "clf_svc_hash = LinearSVC(max_iter = 2000).fit(X_train_h, y_train_h)\n",
    "\n",
    "pred_svm_hash = clf_svc_hash.predict(X_test_h)\n",
    "\n",
    "print(\"Accuracy on training set: {}\".format(clf_svc_hash.score(X_train_h, y_train_h)))\n",
    "print(\"Accuracy on test set: {}\".format(clf_svc_hash.score(X_test_h, y_test_h)))\n",
    "svm_cm_hash = confusion_matrix(pred_svm_hash, y_test_h)\n",
    "print(\"F1-score: \",f1_score(y_test_h, pred_svm_hash, average='micro'))"
   ]
  },
  {
   "cell_type": "code",
   "execution_count": null,
   "metadata": {},
   "outputs": [],
   "source": []
  }
 ],
 "metadata": {
  "kernelspec": {
   "display_name": "Python 3",
   "language": "python",
   "name": "python3"
  },
  "language_info": {
   "codemirror_mode": {
    "name": "ipython",
    "version": 3
   },
   "file_extension": ".py",
   "mimetype": "text/x-python",
   "name": "python",
   "nbconvert_exporter": "python",
   "pygments_lexer": "ipython3",
   "version": "3.7.4"
  }
 },
 "nbformat": 4,
 "nbformat_minor": 2
}
