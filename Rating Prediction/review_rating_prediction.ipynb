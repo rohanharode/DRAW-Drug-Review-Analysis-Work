{
 "cells": [
  {
   "cell_type": "markdown",
   "metadata": {},
   "source": [
    "## Review Rating Prediction"
   ]
  },
  {
   "cell_type": "markdown",
   "metadata": {},
   "source": [
    "### Imports"
   ]
  },
  {
   "cell_type": "code",
   "execution_count": 2,
   "metadata": {},
   "outputs": [
    {
     "name": "stderr",
     "output_type": "stream",
     "text": [
      "Using TensorFlow backend.\n"
     ]
    },
    {
     "name": "stdout",
     "output_type": "stream",
     "text": [
      "Libraries imported\n"
     ]
    }
   ],
   "source": [
    "import numpy as np\n",
    "import pandas as pd\n",
    "import seaborn as sns\n",
    "from scipy import sparse\n",
    "import matplotlib.pyplot as plt\n",
    "\n",
    "%matplotlib inline\n",
    "print('Libraries imported')"
   ]
  },
  {
   "cell_type": "markdown",
   "metadata": {},
   "source": [
    "## Data Import"
   ]
  },
  {
   "cell_type": "code",
   "execution_count": 2,
   "metadata": {},
   "outputs": [
    {
     "data": {
      "text/html": [
       "<div>\n",
       "<style scoped>\n",
       "    .dataframe tbody tr th:only-of-type {\n",
       "        vertical-align: middle;\n",
       "    }\n",
       "\n",
       "    .dataframe tbody tr th {\n",
       "        vertical-align: top;\n",
       "    }\n",
       "\n",
       "    .dataframe thead th {\n",
       "        text-align: right;\n",
       "    }\n",
       "</style>\n",
       "<table border=\"1\" class=\"dataframe\">\n",
       "  <thead>\n",
       "    <tr style=\"text-align: right;\">\n",
       "      <th></th>\n",
       "      <th>Reviews</th>\n",
       "      <th>Rating</th>\n",
       "    </tr>\n",
       "  </thead>\n",
       "  <tbody>\n",
       "    <tr>\n",
       "      <th>0</th>\n",
       "      <td>\"my son is halfway through his fourth week of ...</td>\n",
       "      <td>8.0</td>\n",
       "    </tr>\n",
       "    <tr>\n",
       "      <th>1</th>\n",
       "      <td>\"the actavis generic version of this medicatio...</td>\n",
       "      <td>1.0</td>\n",
       "    </tr>\n",
       "    <tr>\n",
       "      <th>2</th>\n",
       "      <td>\"my son was just diagnosed adhd today. he&amp;#039...</td>\n",
       "      <td>7.0</td>\n",
       "    </tr>\n",
       "    <tr>\n",
       "      <th>3</th>\n",
       "      <td>\"the first few days on 1 mg in the morning, he...</td>\n",
       "      <td>4.0</td>\n",
       "    </tr>\n",
       "    <tr>\n",
       "      <th>4</th>\n",
       "      <td>\"ours 8 year old son as done so much better wi...</td>\n",
       "      <td>10.0</td>\n",
       "    </tr>\n",
       "    <tr>\n",
       "      <th>...</th>\n",
       "      <td>...</td>\n",
       "      <td>...</td>\n",
       "    </tr>\n",
       "    <tr>\n",
       "      <th>337348</th>\n",
       "      <td>i am having some of these side effects and wil...</td>\n",
       "      <td>2.0</td>\n",
       "    </tr>\n",
       "    <tr>\n",
       "      <th>337349</th>\n",
       "      <td>made me tired,achy,and was told not to take st...</td>\n",
       "      <td>2.0</td>\n",
       "    </tr>\n",
       "    <tr>\n",
       "      <th>337350</th>\n",
       "      <td>it makes me feel like crap after i take it.\\ni...</td>\n",
       "      <td>3.0</td>\n",
       "    </tr>\n",
       "    <tr>\n",
       "      <th>337351</th>\n",
       "      <td>when i strated taking the medication i was fin...</td>\n",
       "      <td>2.0</td>\n",
       "    </tr>\n",
       "    <tr>\n",
       "      <th>337352</th>\n",
       "      <td>due to all the medication i'm was unable to co...</td>\n",
       "      <td>3.0</td>\n",
       "    </tr>\n",
       "  </tbody>\n",
       "</table>\n",
       "<p>337353 rows × 2 columns</p>\n",
       "</div>"
      ],
      "text/plain": [
       "                                                  Reviews  Rating\n",
       "0       \"my son is halfway through his fourth week of ...     8.0\n",
       "1       \"the actavis generic version of this medicatio...     1.0\n",
       "2       \"my son was just diagnosed adhd today. he&#039...     7.0\n",
       "3       \"the first few days on 1 mg in the morning, he...     4.0\n",
       "4       \"ours 8 year old son as done so much better wi...    10.0\n",
       "...                                                   ...     ...\n",
       "337348  i am having some of these side effects and wil...     2.0\n",
       "337349  made me tired,achy,and was told not to take st...     2.0\n",
       "337350  it makes me feel like crap after i take it.\\ni...     3.0\n",
       "337351  when i strated taking the medication i was fin...     2.0\n",
       "337352  due to all the medication i'm was unable to co...     3.0\n",
       "\n",
       "[337353 rows x 2 columns]"
      ]
     },
     "execution_count": 2,
     "metadata": {},
     "output_type": "execute_result"
    }
   ],
   "source": [
    "df = pd.read_csv('full_merge.csv')\n",
    "data = df.loc[:, ('Reviews', 'Rating')]\n",
    "data.Reviews = data.Reviews.astype(str)\n",
    "data.Rating = data.Rating.astype(float)\n",
    "data"
   ]
  },
  {
   "cell_type": "markdown",
   "metadata": {},
   "source": [
    "### Splitting among test/train"
   ]
  },
  {
   "cell_type": "code",
   "execution_count": 3,
   "metadata": {},
   "outputs": [
    {
     "data": {
      "text/plain": [
       "((269882, 2), (67471, 2))"
      ]
     },
     "execution_count": 3,
     "metadata": {},
     "output_type": "execute_result"
    }
   ],
   "source": [
    "n = data.shape[0] #337354 \n",
    "split_ratio = 0.8\n",
    "sample_size = int(n*split_ratio)\n",
    "rev_samp = data.sample(n = n, random_state = 42)\n",
    "\n",
    "train = rev_samp[0:sample_size]\n",
    "test = rev_samp[sample_size:]\n",
    "train.shape, test.shape"
   ]
  },
  {
   "cell_type": "markdown",
   "metadata": {},
   "source": [
    "## Label Exploration"
   ]
  },
  {
   "cell_type": "code",
   "execution_count": 4,
   "metadata": {},
   "outputs": [
    {
     "name": "stdout",
     "output_type": "stream",
     "text": [
      "                                                  Reviews  Rating\n",
      "116446  \"this medication has helped tremendously. i we...     9.0\n",
      "89204   \"very helpful for this medicine for several us...     7.0\n",
      "307676  i'm 17 and i've been on levora for four months...     7.0\n",
      "164875  this is my first time using this name brand in...     7.0\n",
      "236445  i had uncontrolled high blood pressure for yea...    10.0\n"
     ]
    },
    {
     "data": {
      "image/png": "[encoded data removed]",
      "text/plain": [
       "<Figure size 432x288 with 1 Axes>"
      ]
     },
     "metadata": {
      "needs_background": "light"
     },
     "output_type": "display_data"
    }
   ],
   "source": [
    "print(train.head())\n",
    "sns.countplot(data['Rating']).set_title('Rating Distribution')\n",
    "plt.show()"
   ]
  },
  {
   "cell_type": "markdown",
   "metadata": {},
   "source": [
    "## One-hot Encoding"
   ]
  },
  {
   "cell_type": "code",
   "execution_count": 5,
   "metadata": {},
   "outputs": [
    {
     "name": "stdout",
     "output_type": "stream",
     "text": [
      "One-Hot Encoding\n",
      "On Train\n"
     ]
    },
    {
     "data": {
      "text/html": [
       "<div>\n",
       "<style scoped>\n",
       "    .dataframe tbody tr th:only-of-type {\n",
       "        vertical-align: middle;\n",
       "    }\n",
       "\n",
       "    .dataframe tbody tr th {\n",
       "        vertical-align: top;\n",
       "    }\n",
       "\n",
       "    .dataframe thead th {\n",
       "        text-align: right;\n",
       "    }\n",
       "</style>\n",
       "<table border=\"1\" class=\"dataframe\">\n",
       "  <thead>\n",
       "    <tr style=\"text-align: right;\">\n",
       "      <th></th>\n",
       "      <th>Reviews</th>\n",
       "      <th>Rating_1.0</th>\n",
       "      <th>Rating_2.0</th>\n",
       "      <th>Rating_3.0</th>\n",
       "      <th>Rating_4.0</th>\n",
       "      <th>Rating_5.0</th>\n",
       "      <th>Rating_6.0</th>\n",
       "      <th>Rating_7.0</th>\n",
       "      <th>Rating_8.0</th>\n",
       "      <th>Rating_9.0</th>\n",
       "      <th>Rating_10.0</th>\n",
       "    </tr>\n",
       "  </thead>\n",
       "  <tbody>\n",
       "    <tr>\n",
       "      <th>116446</th>\n",
       "      <td>\"this medication has helped tremendously. i we...</td>\n",
       "      <td>0</td>\n",
       "      <td>0</td>\n",
       "      <td>0</td>\n",
       "      <td>0</td>\n",
       "      <td>0</td>\n",
       "      <td>0</td>\n",
       "      <td>0</td>\n",
       "      <td>0</td>\n",
       "      <td>1</td>\n",
       "      <td>0</td>\n",
       "    </tr>\n",
       "    <tr>\n",
       "      <th>89204</th>\n",
       "      <td>\"very helpful for this medicine for several us...</td>\n",
       "      <td>0</td>\n",
       "      <td>0</td>\n",
       "      <td>0</td>\n",
       "      <td>0</td>\n",
       "      <td>0</td>\n",
       "      <td>0</td>\n",
       "      <td>1</td>\n",
       "      <td>0</td>\n",
       "      <td>0</td>\n",
       "      <td>0</td>\n",
       "    </tr>\n",
       "    <tr>\n",
       "      <th>307676</th>\n",
       "      <td>i'm 17 and i've been on levora for four months...</td>\n",
       "      <td>0</td>\n",
       "      <td>0</td>\n",
       "      <td>0</td>\n",
       "      <td>0</td>\n",
       "      <td>0</td>\n",
       "      <td>0</td>\n",
       "      <td>1</td>\n",
       "      <td>0</td>\n",
       "      <td>0</td>\n",
       "      <td>0</td>\n",
       "    </tr>\n",
       "    <tr>\n",
       "      <th>164875</th>\n",
       "      <td>this is my first time using this name brand in...</td>\n",
       "      <td>0</td>\n",
       "      <td>0</td>\n",
       "      <td>0</td>\n",
       "      <td>0</td>\n",
       "      <td>0</td>\n",
       "      <td>0</td>\n",
       "      <td>1</td>\n",
       "      <td>0</td>\n",
       "      <td>0</td>\n",
       "      <td>0</td>\n",
       "    </tr>\n",
       "    <tr>\n",
       "      <th>236445</th>\n",
       "      <td>i had uncontrolled high blood pressure for yea...</td>\n",
       "      <td>0</td>\n",
       "      <td>0</td>\n",
       "      <td>0</td>\n",
       "      <td>0</td>\n",
       "      <td>0</td>\n",
       "      <td>0</td>\n",
       "      <td>0</td>\n",
       "      <td>0</td>\n",
       "      <td>0</td>\n",
       "      <td>1</td>\n",
       "    </tr>\n",
       "  </tbody>\n",
       "</table>\n",
       "</div>"
      ],
      "text/plain": [
       "                                                  Reviews  Rating_1.0  \\\n",
       "116446  \"this medication has helped tremendously. i we...           0   \n",
       "89204   \"very helpful for this medicine for several us...           0   \n",
       "307676  i'm 17 and i've been on levora for four months...           0   \n",
       "164875  this is my first time using this name brand in...           0   \n",
       "236445  i had uncontrolled high blood pressure for yea...           0   \n",
       "\n",
       "        Rating_2.0  Rating_3.0  Rating_4.0  Rating_5.0  Rating_6.0  \\\n",
       "116446           0           0           0           0           0   \n",
       "89204            0           0           0           0           0   \n",
       "307676           0           0           0           0           0   \n",
       "164875           0           0           0           0           0   \n",
       "236445           0           0           0           0           0   \n",
       "\n",
       "        Rating_7.0  Rating_8.0  Rating_9.0  Rating_10.0  \n",
       "116446           0           0           1            0  \n",
       "89204            1           0           0            0  \n",
       "307676           1           0           0            0  \n",
       "164875           1           0           0            0  \n",
       "236445           0           0           0            1  "
      ]
     },
     "execution_count": 5,
     "metadata": {},
     "output_type": "execute_result"
    }
   ],
   "source": [
    "\n",
    "print('One-Hot Encoding')\n",
    "train = pd.get_dummies(train, columns = ['Rating'])\n",
    "print('On Train')\n",
    "train.head()"
   ]
  },
  {
   "cell_type": "code",
   "execution_count": 6,
   "metadata": {},
   "outputs": [
    {
     "name": "stdout",
     "output_type": "stream",
     "text": [
      "Train and test shape\n"
     ]
    },
    {
     "data": {
      "text/plain": [
       "((269882, 11), (67471, 11))"
      ]
     },
     "execution_count": 6,
     "metadata": {},
     "output_type": "execute_result"
    }
   ],
   "source": [
    "test = pd.get_dummies(test, columns = ['Rating'])\n",
    "print('Train and test shape')\n",
    "train.shape, test.shape\n"
   ]
  },
  {
   "cell_type": "markdown",
   "metadata": {},
   "source": [
    "### Setting train, test fractions"
   ]
  },
  {
   "cell_type": "code",
   "execution_count": 7,
   "metadata": {},
   "outputs": [
    {
     "name": "stdout",
     "output_type": "stream",
     "text": [
      "(269882, 11) (67471, 11)\n",
      "                                                  Reviews  Rating_1.0  \\\n",
      "127413                                             \"wow!\"           0   \n",
      "173144  have not grown a tolerance as fast compared to...           0   \n",
      "163138  after the very first dose, my 15 yr old daught...           0   \n",
      "120216  \"within 1 hr of taking - starting shaking unco...           1   \n",
      "319226  never been on ad before have been on pristique...           0   \n",
      "\n",
      "        Rating_2.0  Rating_3.0  Rating_4.0  Rating_5.0  Rating_6.0  \\\n",
      "127413           0           0           0           0           0   \n",
      "173144           0           0           0           0           0   \n",
      "163138           0           0           0           1           0   \n",
      "120216           0           0           0           0           0   \n",
      "319226           0           0           0           0           0   \n",
      "\n",
      "        Rating_7.0  Rating_8.0  Rating_9.0  Rating_10.0  \n",
      "127413           0           0           1            0  \n",
      "173144           0           0           1            0  \n",
      "163138           0           0           0            0  \n",
      "120216           0           0           0            0  \n",
      "319226           1           0           0            0  \n"
     ]
    }
   ],
   "source": [
    "# set frac = 1 to use the entire sample\n",
    "train_samp = train.sample(frac = 1, random_state = 42)\n",
    "test_samp = test.sample(frac = 1, random_state = 42)\n",
    "print(train_samp.shape, test_samp.shape)\n",
    "print(train_samp.head())"
   ]
  },
  {
   "cell_type": "markdown",
   "metadata": {},
   "source": [
    "## Long Short Term Memory - LSTM Model\n"
   ]
  },
  {
   "cell_type": "code",
   "execution_count": 8,
   "metadata": {},
   "outputs": [],
   "source": [
    "# Defining parameters\n",
    "# max number of unique words \n",
    "max_features = 20000\n",
    "# max number of words from review to use\n",
    "maxlen = 200\n"
   ]
  },
  {
   "cell_type": "code",
   "execution_count": 9,
   "metadata": {},
   "outputs": [
    {
     "name": "stdout",
     "output_type": "stream",
     "text": [
      "Y data\n",
      "(269882, 10)\n",
      "[[0 0 0 ... 0 1 0]\n",
      " [0 0 0 ... 0 1 0]\n",
      " [0 0 0 ... 0 0 0]\n",
      " ...\n",
      " [0 0 0 ... 0 1 0]\n",
      " [0 0 0 ... 0 0 1]\n",
      " [0 0 0 ... 0 0 1]]\n",
      "X test data\n",
      "[[   0    0    0 ...   18 1271 1572]\n",
      " [   0    0    0 ...  282 1496  133]\n",
      " [   0    0    0 ...   44    9    4]\n",
      " ...\n",
      " [   0    0    0 ...  234  109  130]\n",
      " [   0    0    0 ...  107  382   56]\n",
      " [   0    0    0 ...   57   10 1681]]\n",
      "(67471, 200)\n"
     ]
    }
   ],
   "source": [
    "from keras.preprocessing.text import Tokenizer\n",
    "from keras.preprocessing.sequence import pad_sequences\n",
    "\n",
    "class_names = ['Rating_1.0','Rating_2.0','Rating_3.0','Rating_4.0','Rating_5.0',\\\n",
    "               'Rating_6.0','Rating_7.0','Rating_8.0','Rating_9.0','Rating_10.0']\n",
    "# Splitting off my y variable\n",
    "print('Y data')\n",
    "y = train_samp[class_names].values\n",
    "print(y.shape)\n",
    "print(y)\n",
    "\n",
    "# Train test split\n",
    "tokenizer = Tokenizer(num_words=max_features)\n",
    "tokenizer.fit_on_texts(list(train_samp['Reviews'].values))\n",
    "X_train = tokenizer.texts_to_sequences(train_samp['Reviews'].values)\n",
    "X_test = tokenizer.texts_to_sequences(test_samp['Reviews'].values)\n",
    "x_train = pad_sequences(X_train, maxlen = maxlen)\n",
    "x_test = pad_sequences(X_test, maxlen = maxlen)\n",
    "\n",
    "print('X test data')\n",
    "print(x_test)\n",
    "print(x_test.shape)"
   ]
  },
  {
   "cell_type": "markdown",
   "metadata": {},
   "source": [
    "### Saving tokenizer "
   ]
  },
  {
   "cell_type": "code",
   "execution_count": 10,
   "metadata": {},
   "outputs": [],
   "source": [
    "import pickle\n",
    "\n",
    "# saving tokenizer \n",
    "with open('./ml_model/tokenizer/tokenizer.pkl', 'wb') as handle:\n",
    "    pickle.dump(tokenizer, handle)\n",
    "print('tokenizer saved')"
   ]
  },
  {
   "cell_type": "markdown",
   "metadata": {},
   "source": [
    "### Saving reviews for embedding"
   ]
  },
  {
   "cell_type": "code",
   "execution_count": 11,
   "metadata": {},
   "outputs": [
    {
     "name": "stdout",
     "output_type": "stream",
     "text": [
      "text file created\n"
     ]
    }
   ],
   "source": [
    "review_df = df.loc[:, ('Reviews')]\n",
    "np.savetxt(r'./ml_model/reviews/review.txt', review_df.values, fmt='%s')\n",
    "print('text file created')"
   ]
  },
  {
   "cell_type": "markdown",
   "metadata": {},
   "source": [
    "## Training LSTM Model"
   ]
  },
  {
   "cell_type": "code",
   "execution_count": 12,
   "metadata": {},
   "outputs": [
    {
     "name": "stdout",
     "output_type": "stream",
     "text": [
      "WARNING:tensorflow:From /Users/Shubham/AnacondaNavigator/anaconda3/lib/python3.7/site-packages/tensorflow_core/python/ops/resource_variable_ops.py:1630: calling BaseResourceVariable.__init__ (from tensorflow.python.ops.resource_variable_ops) with constraint is deprecated and will be removed in a future version.\n",
      "Instructions for updating:\n",
      "If using Keras pass *_constraint arguments to layers.\n",
      "WARNING:tensorflow:From /Users/Shubham/AnacondaNavigator/anaconda3/lib/python3.7/site-packages/tensorflow_core/python/ops/nn_impl.py:183: where (from tensorflow.python.ops.array_ops) is deprecated and will be removed in a future version.\n",
      "Instructions for updating:\n",
      "Use tf.where in 2.0, which has the same broadcast rule as np.where\n"
     ]
    }
   ],
   "source": [
    "from keras.models import Model\n",
    "from keras.callbacks import EarlyStopping, ModelCheckpoint\n",
    "from keras.layers import Bidirectional, GlobalAveragePooling1D, GlobalMaxPooling1D, concatenate\n",
    "from keras.layers import Dense, Input, LSTM, Embedding, Dropout, Activation, SpatialDropout1D, GRU\n",
    "\n",
    "embed_size = 20\n",
    "\n",
    "inp = Input(shape = (maxlen,))\n",
    "x = Embedding(max_features, embed_size, trainable = True)(inp)\n",
    "x = SpatialDropout1D(0.5)(x)\n",
    "x = Bidirectional(LSTM(40, return_sequences=True))(x)\n",
    "x = Bidirectional(GRU(40, return_sequences=True))(x)\n",
    "avg_pool = GlobalAveragePooling1D()(x)\n",
    "max_pool = GlobalMaxPooling1D()(x)\n",
    "conc = concatenate([avg_pool, max_pool])\n",
    "outp = Dense(10, activation = 'sigmoid')(conc)\n",
    "\n",
    "model = Model(inputs = inp, outputs = outp)\n",
    "\n",
    "\n",
    "# patience is how many epochs to wait to see if val_loss will improve again\n",
    "earlystop = EarlyStopping(monitor = 'val_loss', min_delta = 0, patience = 5)\n",
    "checkpoint = ModelCheckpoint(monitor = 'val_loss', save_best_only = True,\\\n",
    "                             filepath = './ml_model/weights/lstm_gru_weights.hdf5')\n",
    "\n",
    "model.compile(loss = 'binary_crossentropy', optimizer = 'adam', metrics = ['accuracy'])\n"
   ]
  },
  {
   "cell_type": "markdown",
   "metadata": {},
   "source": [
    "## Model Training"
   ]
  },
  {
   "cell_type": "code",
   "execution_count": 13,
   "metadata": {},
   "outputs": [
    {
     "name": "stdout",
     "output_type": "stream",
     "text": [
      "Model Training Initiated\n",
      "WARNING:tensorflow:From /Users/Shubham/AnacondaNavigator/anaconda3/lib/python3.7/site-packages/keras/backend/tensorflow_backend.py:422: The name tf.global_variables is deprecated. Please use tf.compat.v1.global_variables instead.\n",
      "\n",
      "Train on 215905 samples, validate on 53977 samples\n",
      "Epoch 1/15\n",
      "215905/215905 [==============================] - 899s 4ms/step - loss: 0.3172 - accuracy: 0.8977 - val_loss: 0.3035 - val_accuracy: 0.9000\n",
      "Epoch 2/15\n",
      "215905/215905 [==============================] - 1012s 5ms/step - loss: 0.2869 - accuracy: 0.9012 - val_loss: 0.2722 - val_accuracy: 0.9030\n",
      "Epoch 3/15\n",
      "215905/215905 [==============================] - 1175s 5ms/step - loss: 0.2711 - accuracy: 0.9036 - val_loss: 0.2658 - val_accuracy: 0.9049\n",
      "Epoch 4/15\n",
      "215905/215905 [==============================] - 1043s 5ms/step - loss: 0.2647 - accuracy: 0.9050 - val_loss: 0.2617 - val_accuracy: 0.9064\n",
      "Epoch 5/15\n",
      "215905/215905 [==============================] - 878s 4ms/step - loss: 0.2601 - accuracy: 0.9062 - val_loss: 0.2587 - val_accuracy: 0.9071\n",
      "Epoch 6/15\n",
      "215905/215905 [==============================] - 933s 4ms/step - loss: 0.2563 - accuracy: 0.9073 - val_loss: 0.2573 - val_accuracy: 0.9074\n",
      "Epoch 7/15\n",
      "215905/215905 [==============================] - 1006s 5ms/step - loss: 0.2535 - accuracy: 0.9080 - val_loss: 0.2556 - val_accuracy: 0.9080\n",
      "Epoch 8/15\n",
      "215905/215905 [==============================] - 970s 4ms/step - loss: 0.2512 - accuracy: 0.9086 - val_loss: 0.2560 - val_accuracy: 0.9079\n",
      "Epoch 9/15\n",
      "215905/215905 [==============================] - 1555s 7ms/step - loss: 0.2497 - accuracy: 0.9090 - val_loss: 0.2541 - val_accuracy: 0.9084\n",
      "Epoch 10/15\n",
      "215905/215905 [==============================] - 1784s 8ms/step - loss: 0.2478 - accuracy: 0.9095 - val_loss: 0.2550 - val_accuracy: 0.9081\n",
      "Epoch 11/15\n",
      "215905/215905 [==============================] - 1826s 8ms/step - loss: 0.2465 - accuracy: 0.9098 - val_loss: 0.2534 - val_accuracy: 0.9086\n",
      "Epoch 12/15\n",
      "215905/215905 [==============================] - 1187s 5ms/step - loss: 0.2452 - accuracy: 0.9101 - val_loss: 0.2530 - val_accuracy: 0.9088\n",
      "Epoch 13/15\n",
      "215905/215905 [==============================] - 1094s 5ms/step - loss: 0.2438 - accuracy: 0.9105 - val_loss: 0.2527 - val_accuracy: 0.9089\n",
      "Epoch 14/15\n",
      "215905/215905 [==============================] - 1179s 5ms/step - loss: 0.2425 - accuracy: 0.9107 - val_loss: 0.2529 - val_accuracy: 0.9088\n",
      "Epoch 15/15\n",
      "215905/215905 [==============================] - 1023s 5ms/step - loss: 0.2415 - accuracy: 0.9111 - val_loss: 0.2520 - val_accuracy: 0.9089\n",
      "Model Training Completed\n"
     ]
    }
   ],
   "source": [
    "print('Model Training Initiated')\n",
    "epoch = 10\n",
    "model.fit(x_train, y, batch_size = 512, epochs = epoch, validation_split = .2, callbacks=[earlystop, checkpoint])\n",
    "print('Model Training Completed')"
   ]
  },
  {
   "cell_type": "markdown",
   "metadata": {},
   "source": [
    "### Model Evaluation"
   ]
  },
  {
   "cell_type": "code",
   "execution_count": 14,
   "metadata": {},
   "outputs": [
    {
     "name": "stdout",
     "output_type": "stream",
     "text": [
      "67471/67471 [==============================] - 75s 1ms/step\n"
     ]
    },
    {
     "data": {
      "text/plain": [
       "array([[2.1836370e-02, 6.1109722e-02, 9.0967178e-02, ..., 1.3090125e-01,\n",
       "        8.2291573e-02, 3.4377366e-02],\n",
       "       [1.2873816e-01, 2.5853574e-01, 1.3665751e-01, ..., 5.2336454e-03,\n",
       "        4.3954253e-03, 6.2325895e-03],\n",
       "       [5.7628751e-04, 1.4342070e-03, 1.6046464e-03, ..., 9.5746666e-02,\n",
       "        3.6057347e-01, 4.9624893e-01],\n",
       "       ...,\n",
       "       [1.7083442e-01, 3.0567479e-01, 1.2189457e-01, ..., 6.3704550e-03,\n",
       "        4.5021772e-03, 8.9263916e-03],\n",
       "       [3.5002142e-02, 5.4802805e-02, 2.3658156e-02, ..., 2.3000658e-02,\n",
       "        6.7750394e-02, 6.2087578e-01],\n",
       "       [6.0574114e-03, 1.6927749e-02, 2.2586703e-02, ..., 1.7381477e-01,\n",
       "        2.3631261e-01, 2.9184023e-01]], dtype=float32)"
      ]
     },
     "execution_count": 14,
     "metadata": {},
     "output_type": "execute_result"
    }
   ],
   "source": [
    "y_test = model.predict([x_test], batch_size=1024, verbose = 1)\n",
    "y_test"
   ]
  },
  {
   "cell_type": "code",
   "execution_count": null,
   "metadata": {},
   "outputs": [],
   "source": []
  },
  {
   "cell_type": "markdown",
   "metadata": {},
   "source": [
    "### Model Accuracy"
   ]
  },
  {
   "cell_type": "code",
   "execution_count": 15,
   "metadata": {},
   "outputs": [
    {
     "name": "stdout",
     "output_type": "stream",
     "text": [
      "              precision    recall  f1-score   support\n",
      "\n",
      "           0       0.41      0.70      0.52      4435\n",
      "           1       0.26      0.16      0.20      3741\n",
      "           2       0.00      0.00      0.00      3353\n",
      "           3       0.00      0.00      0.00      2780\n",
      "           4       0.23      0.31      0.26      6279\n",
      "           5       0.21      0.00      0.00      3753\n",
      "           6       0.24      0.37      0.29      7056\n",
      "           7       0.22      0.13      0.16      6774\n",
      "           8       0.34      0.27      0.30     11299\n",
      "           9       0.55      0.75      0.64     18001\n",
      "\n",
      "    accuracy                           0.38     67471\n",
      "   macro avg       0.24      0.27      0.24     67471\n",
      "weighted avg       0.32      0.38      0.34     67471\n",
      "\n"
     ]
    },
    {
     "name": "stderr",
     "output_type": "stream",
     "text": [
      "/Users/Shubham/AnacondaNavigator/anaconda3/lib/python3.7/site-packages/sklearn/metrics/classification.py:1437: UndefinedMetricWarning: Precision and F-score are ill-defined and being set to 0.0 in labels with no predicted samples.\n",
      "  'precision', 'predicted', average, warn_for)\n"
     ]
    }
   ],
   "source": [
    "from sklearn import metrics\n",
    "v = metrics.classification_report(np.argmax(test_samp[class_names].values, axis = 1),np.argmax(y_test, axis = 1))\n",
    "print(v)"
   ]
  },
  {
   "cell_type": "markdown",
   "metadata": {},
   "source": [
    "### Saving model"
   ]
  },
  {
   "cell_type": "code",
   "execution_count": 16,
   "metadata": {},
   "outputs": [
    {
     "name": "stdout",
     "output_type": "stream",
     "text": [
      "Model Saved\n"
     ]
    }
   ],
   "source": [
    "model.save('./ml_model/model/review_rating_pred.h5')\n",
    "print('Model Saved')"
   ]
  },
  {
   "cell_type": "markdown",
   "metadata": {},
   "source": [
    "### Model Testing"
   ]
  },
  {
   "cell_type": "code",
   "execution_count": 4,
   "metadata": {},
   "outputs": [
    {
     "name": "stdout",
     "output_type": "stream",
     "text": [
      "WARNING:tensorflow:From /Users/Shubham/AnacondaNavigator/anaconda3/lib/python3.7/site-packages/tensorflow_core/python/ops/resource_variable_ops.py:1630: calling BaseResourceVariable.__init__ (from tensorflow.python.ops.resource_variable_ops) with constraint is deprecated and will be removed in a future version.\n",
      "Instructions for updating:\n",
      "If using Keras pass *_constraint arguments to layers.\n",
      "WARNING:tensorflow:From /Users/Shubham/AnacondaNavigator/anaconda3/lib/python3.7/site-packages/tensorflow_core/python/ops/nn_impl.py:183: where (from tensorflow.python.ops.array_ops) is deprecated and will be removed in a future version.\n",
      "Instructions for updating:\n",
      "Use tf.where in 2.0, which has the same broadcast rule as np.where\n",
      "WARNING:tensorflow:From /Users/Shubham/AnacondaNavigator/anaconda3/lib/python3.7/site-packages/keras/backend/tensorflow_backend.py:422: The name tf.global_variables is deprecated. Please use tf.compat.v1.global_variables instead.\n",
      "\n",
      "Model Loaded\n"
     ]
    }
   ],
   "source": [
    "from keras.models import load_model\n",
    "\n",
    "lstm = load_model('./ml_model/model/review_rating_pred.h5')\n",
    "tokenizer_test = pd.read_pickle('./ml_model/tokenizer/tokenizer.pkl')\n",
    "print('Model Loaded')"
   ]
  },
  {
   "cell_type": "markdown",
   "metadata": {},
   "source": [
    "#### Sample review prediction"
   ]
  },
  {
   "cell_type": "code",
   "execution_count": 5,
   "metadata": {},
   "outputs": [
    {
     "name": "stdout",
     "output_type": "stream",
     "text": [
      "['Increased dose from 1mg to 2 mg now urinating in bed every night, bad effect, worse, major pain']\n",
      "Review  1\n",
      "Original Rating 1\n",
      "1/1 [==============================] - 0s 474ms/step\n",
      "Predicted Rating [1]\n",
      "\n",
      "Review  2\n",
      "Original Rating 3\n",
      "1/1 [==============================] - 0s 66ms/step\n",
      "Predicted Rating [5]\n",
      "\n",
      "Review  3\n",
      "Original Rating 8\n",
      "1/1 [==============================] - 0s 65ms/step\n",
      "Predicted Rating [10]\n",
      "\n"
     ]
    }
   ],
   "source": [
    "# Sample Reviews (Bad, moderate(less bad), Good)\n",
    "# 'Intunive did not work for my son; he was bouncing off the walls while he was taking it, and having major issues in class! It seems to work the opposite on him!'\n",
    "# 'Increased dose from 1mg to 2 mg now urinating in bed every night, bad effect'\n",
    "# 'Good experience, it has worked well for my son for about 2 months now.. For some that say they can no longer afford because of insurance. Some places sell generic for under 10$ a month'\n",
    "\n",
    "s = 1\n",
    "review_list = []\n",
    "rating = [1, 3, 8]\n",
    "review1 = ['Intunive did not work for my son; he was bouncing off the walls while he was taking it, and having major issues in class! It seems to work the opposite on him!']\n",
    "review2 = ['Increased dose from 1mg to 2 mg now urinating in bed every night, bad effect, worse, major pain']\n",
    "review3 = ['Good experience, it has worked well for my son for about 2 months now.. For some that say they can no longer afford because of insurance. Some places sell generic for under 10$ a month']\n",
    "\n",
    "review_list.append(review1)\n",
    "print(review2)\n",
    "review_list.append(review2)\n",
    "review_list.append(review3)\n",
    "\n",
    "\n",
    "for sample in review_list:\n",
    "    X_sample = tokenizer_test.texts_to_sequences(sample)\n",
    "    print('Review ', s)\n",
    "    print('Original Rating', rating[s-1])\n",
    "    x_sample = pad_sequences(X_sample, maxlen = 200)\n",
    "    y_sample = lstm.predict([x_sample], batch_size = 512, verbose = 1)\n",
    "\n",
    "    y_max = np.argmax(y_sample, axis = 1)\n",
    "    print('Predicted Rating',y_max + 1)\n",
    "    s += 1\n",
    "    print('')"
   ]
  },
  {
   "cell_type": "markdown",
   "metadata": {},
   "source": [
    "### Predicting for entire sample"
   ]
  },
  {
   "cell_type": "code",
   "execution_count": 6,
   "metadata": {},
   "outputs": [
    {
     "name": "stdout",
     "output_type": "stream",
     "text": [
      "Read csv\n",
      "Tokenizing\n",
      "Sample Prediction\n",
      "337337/337337 [==============================] - 392s 1ms/step\n",
      "\n"
     ]
    }
   ],
   "source": [
    "print('Read csv')\n",
    "df = pd.read_csv('full_merge_emotion_sentiment.csv')\n",
    "data = df.loc[:, ('Reviews', 'Rating')]\n",
    "data.Reviews = data.Reviews.astype(str)\n",
    "\n",
    "print('Tokenizing')\n",
    "X_sample = tokenizer_test.texts_to_sequences(data['Reviews'].values)\n",
    "x_sample = pad_sequences(X_sample, maxlen = 200)\n",
    "print('Sample Prediction')\n",
    "y_sample = lstm.predict([x_sample], batch_size=512, verbose = 1)\n",
    "\n",
    "print('')\n",
    "df['Predicted_rating'] = np.argmax(y_sample, axis=1)"
   ]
  },
  {
   "cell_type": "code",
   "execution_count": 7,
   "metadata": {},
   "outputs": [
    {
     "name": "stdout",
     "output_type": "stream",
     "text": [
      "              Drug     Condition  \\\n",
      "0       guanfacine          adhd   \n",
      "1       guanfacine          adhd   \n",
      "2       guanfacine          adhd   \n",
      "3       guanfacine          adhd   \n",
      "4       guanfacine          adhd   \n",
      "...            ...           ...   \n",
      "337332   isoniazid  tuberculosis   \n",
      "337333   isoniazid  tuberculosis   \n",
      "337334   isoniazid  tuberculosis   \n",
      "337335   isoniazid  tuberculosis   \n",
      "337336     rifadin  tuberculosis   \n",
      "\n",
      "                                                  Reviews  Rating    Website  \\\n",
      "0       \"my son is halfway through his fourth week of ...       8  drugs.com   \n",
      "1       \"the actavis generic version of this medicatio...       1  drugs.com   \n",
      "2       \"my son was just diagnosed adhd today. he's 5 ...       7  drugs.com   \n",
      "3       \"the first few days on 1 mg in the morning, he...       4  drugs.com   \n",
      "4       \"ours 8 year old son as done so much better wi...      10  drugs.com   \n",
      "...                                                   ...     ...        ...   \n",
      "337332  i am having some of these side effects and wil...       2      webmd   \n",
      "337333  made me tired,achy,and was told not to take st...       2      webmd   \n",
      "337334  it makes me feel like crap after i take it.\\ni...       3      webmd   \n",
      "337335  when i strated taking the medication i was fin...       2      webmd   \n",
      "337336  due to all the medication i'm was unable to co...       3      webmd   \n",
      "\n",
      "        anger  anticipation  disgust  fear  joy  negative  positive  sadness  \\\n",
      "0           0             5        0     2    2         3         3        1   \n",
      "1           0             0        0     1    0         4         0        1   \n",
      "2           1             4        0     1    3         2         3        1   \n",
      "3           0             3        1     0    2         4         5        2   \n",
      "4           0             2        0     0    1         0         1        0   \n",
      "...       ...           ...      ...   ...  ...       ...       ...      ...   \n",
      "337332      0             1        0     0    0         0         1        0   \n",
      "337333      0             0        0     0    0         0         0        0   \n",
      "337334      0             1        1     0    0         1         1        0   \n",
      "337335      0             6        0     3    4         2         7        0   \n",
      "337336      0             0        0     0    0         0         0        0   \n",
      "\n",
      "        surprise  trust  Sentiment  Predicted_rating  \n",
      "0              2      4         10                 8  \n",
      "1              0      1          2                 0  \n",
      "2              2      5          9                 6  \n",
      "3              2      2          2                 7  \n",
      "4              0      1          6                 8  \n",
      "...          ...    ...        ...               ...  \n",
      "337332         0      1          6                 4  \n",
      "337333         1      0          6                 1  \n",
      "337334         0      0          7                 4  \n",
      "337335         3      7          6                 6  \n",
      "337336         0      0          6                 6  \n",
      "\n",
      "[337337 rows x 17 columns]\n",
      "new dataframe saved as csv\n"
     ]
    }
   ],
   "source": [
    "print(df)\n",
    "df.to_csv('full_merge_model_predictions.csv', index=False)\n",
    "print('new dataframe saved as csv')\n",
    "# %match\t\t15%\t\t\t66%\t\t\t81%\t\t\t89%\n",
    "\n",
    "# new_rating\tExact\tnearest 1\tnearest 2\tnearest 3"
   ]
  },
  {
   "cell_type": "code",
   "execution_count": null,
   "metadata": {},
   "outputs": [],
   "source": []
  }
 ],
 "metadata": {
  "kernelspec": {
   "display_name": "Python 3",
   "language": "python",
   "name": "python3"
  },
  "language_info": {
   "codemirror_mode": {
    "name": "ipython",
    "version": 3
   },
   "file_extension": ".py",
   "mimetype": "text/x-python",
   "name": "python",
   "nbconvert_exporter": "python",
   "pygments_lexer": "ipython3",
   "version": "3.7.3"
  }
 },
 "nbformat": 4,
 "nbformat_minor": 2
}
